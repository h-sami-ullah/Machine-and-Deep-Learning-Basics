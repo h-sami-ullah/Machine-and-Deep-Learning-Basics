{
 "cells": [
  {
   "cell_type": "code",
   "execution_count": 8,
   "metadata": {},
   "outputs": [
    {
     "name": "stdout",
     "output_type": "stream",
     "text": [
      "Extracting MNIST_data/train-images-idx3-ubyte.gz\n",
      "Extracting MNIST_data/train-labels-idx1-ubyte.gz\n",
      "Extracting MNIST_data/t10k-images-idx3-ubyte.gz\n",
      "Extracting MNIST_data/t10k-labels-idx1-ubyte.gz\n",
      "(28, 28, 1)\n",
      "x_train shape: (55000, 28, 28, 1)\n",
      "55000 train samples\n",
      "10000 test samples\n"
     ]
    }
   ],
   "source": [
    "\n",
    "from __future__ import print_function\n",
    "import keras\n",
    "from keras.models import Sequential\n",
    "from keras.layers import Dense, Dropout, Flatten\n",
    "from keras.layers import Conv2D\n",
    "from keras import backend as K\n",
    "from keras.optimizers import Adam\n",
    "\n",
    "\n",
    "\n",
    "\n",
    "from tensorflow.examples.tutorials.mnist import input_data # import data from tensorflow library \n",
    "\n",
    "mnist = input_data.read_data_sets(\"MNIST_data/\", one_hot=True) # downloading data and generating onehot \n",
    "                                                               #encoded labels\n",
    "x_train = mnist.train.images # training data features (Images)\n",
    "y_train= mnist.train.labels # Label class for training image\n",
    "x_test = mnist.test.images   # Testing data\n",
    "y_test = mnist.test.labels   # Testing Class label\n",
    "x_valid= mnist.validation.images # Validation data\n",
    "y_valid   = mnist.validation.labels # Validation class label\n",
    "img_rows, img_cols = 28, 28\n",
    "\n",
    "x_train=x_train.reshape((x_train.shape[0],28,28,1))\n",
    "x_test=x_test.reshape((x_test.shape[0],28,28,1))\n",
    "x_valid=x_valid.reshape((x_valid.shape[0],28,28,1))\n",
    "\n",
    "x_train = x_train.astype('float32')\n",
    "x_test = x_test.astype('float32')\n",
    "x_valid = x_valid.astype('float32')\n",
    "x_train /= 255\n",
    "x_test /= 255\n",
    "x_valid /=255\n",
    "\n",
    "input_shape = x_train.shape[1:]\n",
    "print(input_shape)\n",
    "print('x_train shape:', x_train.shape)\n",
    "print(x_train.shape[0], 'train samples')\n",
    "print(x_test.shape[0], 'test samples')\n",
    "\n",
    "\n",
    "batch_size = 128\n",
    "num_classes = 10\n",
    "epochs = 12\n",
    "# In[23]:\n",
    "\n",
    "\n",
    " #Model type\n",
    "model = Sequential()\n",
    "# Conv layer 32 filters of size 3*3 Input shape is (None, 28,28,1)\n",
    "model.add(Conv2D(32, kernel_size=(3, 3),\n",
    "                 activation='relu',\n",
    "                 input_shape=input_shape))\n",
    "model.add(Flatten())# Flattening data (2d to vector form)\n",
    "# Model .Layer type (hidden units, activation function)\n",
    "model.add(Dense(500, activation='relu'))\n",
    "model.add(Dropout(0.25))\n",
    "model.add(Dense(500, activation='relu'))\n",
    "model.add(Dropout(0.5)) # Freezing parameter while training\n",
    "\n",
    "#last layer with 10 outputs and softmax function\n",
    "model.add(Dense(num_classes, activation='softmax'))\n",
    "\n",
    "optimizer = Adam(0.001, beta_1=0.9, beta_2=0.999) # Adam Optimizer\n",
    "model.compile(loss=keras.losses.categorical_crossentropy, #Catagorical Crossentropy\n",
    "              optimizer=optimizer, \n",
    "              metrics=['accuracy']) #Print Accuracy\n",
    "\n",
    "\n"
   ]
  },
  {
   "cell_type": "code",
   "execution_count": 9,
   "metadata": {},
   "outputs": [
    {
     "name": "stdout",
     "output_type": "stream",
     "text": [
      "_________________________________________________________________\n",
      "Layer (type)                 Output Shape              Param #   \n",
      "=================================================================\n",
      "conv2d_4 (Conv2D)            (None, 26, 26, 32)        320       \n",
      "_________________________________________________________________\n",
      "flatten_4 (Flatten)          (None, 21632)             0         \n",
      "_________________________________________________________________\n",
      "dense_10 (Dense)             (None, 500)               10816500  \n",
      "_________________________________________________________________\n",
      "dropout_7 (Dropout)          (None, 500)               0         \n",
      "_________________________________________________________________\n",
      "dense_11 (Dense)             (None, 500)               250500    \n",
      "_________________________________________________________________\n",
      "dropout_8 (Dropout)          (None, 500)               0         \n",
      "_________________________________________________________________\n",
      "dense_12 (Dense)             (None, 10)                5010      \n",
      "=================================================================\n",
      "Total params: 11,072,330\n",
      "Trainable params: 11,072,330\n",
      "Non-trainable params: 0\n",
      "_________________________________________________________________\n"
     ]
    }
   ],
   "source": [
    "model.summary()"
   ]
  },
  {
   "cell_type": "code",
   "execution_count": 10,
   "metadata": {},
   "outputs": [
    {
     "name": "stdout",
     "output_type": "stream",
     "text": [
      "Train on 55000 samples, validate on 5000 samples\n",
      "Epoch 1/12\n",
      "55000/55000 [==============================] - 5s 87us/step - loss: 0.8268 - acc: 0.7310 - val_loss: 0.2902 - val_acc: 0.9162\n",
      "Epoch 2/12\n",
      "55000/55000 [==============================] - 4s 76us/step - loss: 0.2869 - acc: 0.9130 - val_loss: 0.1768 - val_acc: 0.9486\n",
      "Epoch 3/12\n",
      "55000/55000 [==============================] - 4s 76us/step - loss: 0.2026 - acc: 0.9396 - val_loss: 0.1297 - val_acc: 0.9606\n",
      "Epoch 4/12\n",
      "55000/55000 [==============================] - 4s 76us/step - loss: 0.1621 - acc: 0.9507 - val_loss: 0.1088 - val_acc: 0.9674\n",
      "Epoch 5/12\n",
      "55000/55000 [==============================] - 4s 76us/step - loss: 0.1367 - acc: 0.9588 - val_loss: 0.0966 - val_acc: 0.9716\n",
      "Epoch 6/12\n",
      "55000/55000 [==============================] - 4s 76us/step - loss: 0.1209 - acc: 0.9637 - val_loss: 0.0856 - val_acc: 0.9730\n",
      "Epoch 7/12\n",
      "55000/55000 [==============================] - 4s 75us/step - loss: 0.1077 - acc: 0.9675 - val_loss: 0.0751 - val_acc: 0.9782\n",
      "Epoch 8/12\n",
      "55000/55000 [==============================] - 4s 76us/step - loss: 0.0965 - acc: 0.9704 - val_loss: 0.0743 - val_acc: 0.9778\n",
      "Epoch 9/12\n",
      "55000/55000 [==============================] - 4s 76us/step - loss: 0.0892 - acc: 0.9727 - val_loss: 0.0636 - val_acc: 0.9808\n",
      "Epoch 10/12\n",
      "55000/55000 [==============================] - 4s 76us/step - loss: 0.0820 - acc: 0.9744 - val_loss: 0.0640 - val_acc: 0.9792\n",
      "Epoch 11/12\n",
      "55000/55000 [==============================] - 4s 76us/step - loss: 0.0759 - acc: 0.9757 - val_loss: 0.0623 - val_acc: 0.9824\n",
      "Epoch 12/12\n",
      "55000/55000 [==============================] - 4s 76us/step - loss: 0.0712 - acc: 0.9777 - val_loss: 0.0607 - val_acc: 0.9824\n",
      "Test loss: 0.06695668875304982\n",
      "Test accuracy: 0.9805\n"
     ]
    }
   ],
   "source": [
    "history = model.fit(x_train, y_train,#Training Input \n",
    "          batch_size=batch_size, # batch_size \n",
    "          epochs=epochs,#Epochs\n",
    "          verbose=1, # print Mode  \"progress bar\"\n",
    "          validation_data=(x_valid, y_valid)) # Validation Data\n",
    "score = model.evaluate(x_test, y_test, verbose=0)\n",
    "print('Test loss:', score[0])\n",
    "print('Test accuracy:', score[1])"
   ]
  },
  {
   "cell_type": "code",
   "execution_count": 12,
   "metadata": {},
   "outputs": [
    {
     "name": "stdout",
     "output_type": "stream",
     "text": [
      "dict_keys(['val_loss', 'val_acc', 'loss', 'acc'])\n"
     ]
    },
    {
     "data": {
      "image/png": "[encoded data removed]",
      "text/plain": [
       "<Figure size 432x288 with 1 Axes>"
      ]
     },
     "metadata": {
      "needs_background": "light"
     },
     "output_type": "display_data"
    },
    {
     "data": {
      "image/png": "[encoded data removed]",
      "text/plain": [
       "<Figure size 432x288 with 1 Axes>"
      ]
     },
     "metadata": {
      "needs_background": "light"
     },
     "output_type": "display_data"
    }
   ],
   "source": [
    "from matplotlib import pyplot as plt\n",
    "print(history.history.keys())\n",
    "# summarize history for accuracy\n",
    "plt.plot(history.history['acc'])\n",
    "plt.plot(history.history['val_acc'])\n",
    "plt.title('model accuracy')\n",
    "plt.ylabel('accuracy')\n",
    "plt.xlabel('epoch')\n",
    "plt.legend(['train', 'validation'], loc='upper left')\n",
    "plt.show()\n",
    "# summarize history for loss\n",
    "plt.plot(history.history['loss'])\n",
    "plt.plot(history.history['val_loss'])\n",
    "plt.title('model loss')\n",
    "plt.ylabel('loss')\n",
    "plt.xlabel('epoch')\n",
    "plt.legend(['train', 'validation'], loc='upper left')\n",
    "plt.show()"
   ]
  }
 ],
 "metadata": {
  "kernelspec": {
   "display_name": "Python 3",
   "language": "python",
   "name": "python3"
  },
  "language_info": {
   "codemirror_mode": {
    "name": "ipython",
    "version": 3
   },
   "file_extension": ".py",
   "mimetype": "text/x-python",
   "name": "python",
   "nbconvert_exporter": "python",
   "pygments_lexer": "ipython3",
   "version": "3.6.12"
  }
 },
 "nbformat": 4,
 "nbformat_minor": 4
}
