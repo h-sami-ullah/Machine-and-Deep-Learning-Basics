{
 "cells": [
  {
   "cell_type": "code",
   "execution_count": 1,
   "metadata": {},
   "outputs": [],
   "source": [
    "import numpy as np\n",
    "import random"
   ]
  },
  {
   "cell_type": "code",
   "execution_count": 2,
   "metadata": {},
   "outputs": [],
   "source": [
    "x=np.random.uniform(low=0.0, high=1.00000000000001, size=(100,10))"
   ]
  },
  {
   "cell_type": "code",
   "execution_count": 3,
   "metadata": {},
   "outputs": [
    {
     "data": {
      "text/plain": [
       "array([0.80117867, 0.1848683 , 0.8105003 , 0.98450811, 0.82066302,\n",
       "       0.64121645, 0.00889402, 0.56473876, 0.97550226, 0.22594168])"
      ]
     },
     "execution_count": 3,
     "metadata": {},
     "output_type": "execute_result"
    }
   ],
   "source": [
    "x[0]"
   ]
  },
  {
   "cell_type": "code",
   "execution_count": 4,
   "metadata": {},
   "outputs": [],
   "source": [
    "n=np.random.normal(loc=0.0, scale=1.0, size=100)"
   ]
  },
  {
   "cell_type": "code",
   "execution_count": 5,
   "metadata": {},
   "outputs": [],
   "source": [
    "y=np.zeros((100))\n",
    "\n",
    "for sample in range(0,100):\n",
    "    a=0\n",
    "    \n",
    "    for i in range(1,11):\n",
    "        a=x[sample][i-1]*i+a\n",
    "    y[sample]=a+0.1*n[sample]\n"
   ]
  },
  {
   "cell_type": "code",
   "execution_count": 6,
   "metadata": {},
   "outputs": [],
   "source": [
    "def ypred(weights, x, n):\n",
    "    weights = weights.reshape(1,n+1)  # Reshaping the weights in a row vector\n",
    "    pred = np.zeros((x.shape[0],1)) # Y predicted initialization 100 in number\n",
    "    for s in range(0,x.shape[0]): # from all samples pick s sample and multiply with weights to get a prediction\n",
    "\n",
    "        pred[s] = float(np.matmul(weights, x[s]))# Implementation of Multivarient linear regression \n",
    "        ## i.e. y = weight0*x0+weight1*x1+wegiht2*x2.....weight10*x10\n",
    "    pred = pred.reshape(x.shape[0]) # make the column vector to 100 label vector \n",
    "    return pred"
   ]
  },
  {
   "cell_type": "code",
   "execution_count": 7,
   "metadata": {},
   "outputs": [],
   "source": [
    "def GD(weights, learning_rate, epochs,h,x, y, n):\n",
    "    error = np.ones(epochs) # loss track \n",
    "    for i in range(0,epochs): # number of training iterations\n",
    "        weights[0] = weights[0] - (learning_rate/x.shape[0]) * sum(h - y) # Updating Weight[0] as x[0] is one so \n",
    "                                                                            #excluded from the loop\n",
    "        for j in range(1,n+1): #  Update the reamining Weights[1:10]\n",
    "            # update for remaining Weigths \n",
    "            weights[j] = weights[j] - (learning_rate/x.shape[0]) * sum((h-y) * x.transpose()[j]) \n",
    "        h = ypred(weights, x, n) #calculate new prediction\n",
    "        error[i] = (1/x.shape[0]) * sum(np.square(h - y)) # calculate mean squared error\n",
    "        if error[i]<0.004:\n",
    "            print(\"is the number of epochs it runs \",i)\n",
    "            break\n",
    "            \n",
    "    weights = weights.reshape(1,n+1)\n",
    "    return weights, error"
   ]
  },
  {
   "cell_type": "code",
   "execution_count": 8,
   "metadata": {},
   "outputs": [],
   "source": [
    "def SGD(weights, learning_rate, epochs,h,x, y, n):\n",
    "    error = np.ones(epochs) # loss track \n",
    "    for i in range(0,epochs): # number of training iterations\n",
    "        for s in range(0,x.shape[0]):\n",
    "            weights[0] = weights[0] - (learning_rate) * (h[s] - y[s]) # Updating Weight[0] as x[0] \n",
    "                                                                            #is one so \n",
    "                                                                            #excluded from the loop\n",
    "            for j in range(1,n+1): #  Update the reamining Weights[1:10]\n",
    "                # update for remaining Weigths \n",
    "                weights[j] = weights[j] - (learning_rate) * ((h[s]-y[s]) * x[s].transpose()[j]) \n",
    "            h = ypred(weights, x, n) #calculate new prediction\n",
    "        error[i] = (1/x.shape[0]) * sum(np.square(h - y)) # calculate mean squared error\n",
    "        if error[i]<0.004:\n",
    "            print(\"is the number of epochs it runs \",i)\n",
    "            break\n",
    "            \n",
    "    weights = weights.reshape(1,n+1)\n",
    "    return weights, error"
   ]
  },
  {
   "cell_type": "code",
   "execution_count": 9,
   "metadata": {},
   "outputs": [],
   "source": [
    "def multivarient_linear_regression_gd(x, y, learning_rate, epochs):\n",
    "    n = x.shape[1] # Number of features in one sample \n",
    "    weights = np.zeros(n+1) # the number of features are 11 now so does the weights\n",
    "    one_column = np.ones((x.shape[0],1)) # generating ones for making symetry \n",
    "    x = np.concatenate((one_column, x), axis = 1) # padding x to add column of ones\n",
    "    \n",
    "    h = ypred(weights, x, n) # pred the y, only once to use this in future Gradient Descent \n",
    "    # returning the optimized parameters by Gradient Descent...\n",
    "    theta, cost = GD(weights,learning_rate,epochs,h,x,y,n)\n",
    "    return theta, cost,x"
   ]
  },
  {
   "cell_type": "code",
   "execution_count": 10,
   "metadata": {},
   "outputs": [],
   "source": [
    "def multivarient_linear_regression_sgd(x, y, learning_rate, epochs):\n",
    "    n = x.shape[1] # Number of features in one sample \n",
    "    weights = np.zeros(n+1) # the number of features are 11 now so does the weights\n",
    "    one_column = np.ones((x.shape[0],1)) # generating ones for making symetry \n",
    "    x = np.concatenate((one_column, x), axis = 1) # padding x to add column of ones\n",
    "    \n",
    "    h = ypred(weights, x, n) # pred the y, only once to use this in future Gradient Descent \n",
    "    # returning the optimized parameters by Gradient Descent...\n",
    "    theta, cost = SGD(weights,learning_rate,epochs,h,x,y,n)\n",
    "    return theta, cost,x"
   ]
  },
  {
   "cell_type": "code",
   "execution_count": 11,
   "metadata": {},
   "outputs": [],
   "source": [
    "learning_rate = 0.05\n",
    "epochs = 3000\n",
    "weights, error, x = multivarient_linear_regression_sgd(x, y,learning_rate, epochs)"
   ]
  },
  {
   "cell_type": "code",
   "execution_count": 12,
   "metadata": {},
   "outputs": [
    {
     "data": {
      "text/plain": [
       "0.008199285790087829"
      ]
     },
     "execution_count": 12,
     "metadata": {},
     "output_type": "execute_result"
    }
   ],
   "source": [
    "error.min()"
   ]
  },
  {
   "cell_type": "code",
   "execution_count": null,
   "metadata": {},
   "outputs": [],
   "source": []
  },
  {
   "cell_type": "code",
   "execution_count": 13,
   "metadata": {},
   "outputs": [
    {
     "data": {
      "text/plain": [
       "[<matplotlib.lines.Line2D at 0x7fb7a80f45c0>]"
      ]
     },
     "execution_count": 13,
     "metadata": {},
     "output_type": "execute_result"
    },
    {
     "data": {
      "image/png": "[encoded data removed]",
      "text/plain": [
       "<Figure size 432x288 with 1 Axes>"
      ]
     },
     "metadata": {
      "needs_background": "light"
     },
     "output_type": "display_data"
    }
   ],
   "source": [
    "import matplotlib.pyplot as plt \n",
    "plt.plot(error[:50])"
   ]
  },
  {
   "cell_type": "code",
   "execution_count": 13,
   "metadata": {},
   "outputs": [
    {
     "name": "stdout",
     "output_type": "stream",
     "text": [
      "31.83861069534432\n"
     ]
    }
   ],
   "source": [
    "print(float(np.matmul(weights, x[2])))"
   ]
  },
  {
   "cell_type": "code",
   "execution_count": 14,
   "metadata": {},
   "outputs": [
    {
     "data": {
      "text/plain": [
       "20.073016673401522"
      ]
     },
     "execution_count": 14,
     "metadata": {},
     "output_type": "execute_result"
    }
   ],
   "source": [
    "y[2]"
   ]
  },
  {
   "cell_type": "code",
   "execution_count": 15,
   "metadata": {},
   "outputs": [
    {
     "name": "stdout",
     "output_type": "stream",
     "text": [
      "[[ 0.01026414  0.97485742  1.98110717  3.05215968  4.01058638  4.98384489\n",
      "   5.98832801  7.02999712  7.95881423  8.98653408 10.01141102]]\n"
     ]
    }
   ],
   "source": [
    "print(weights)"
   ]
  },
  {
   "cell_type": "code",
   "execution_count": 16,
   "metadata": {},
   "outputs": [],
   "source": [
    "def ypred(weights,x):\n",
    "    pred = np.zeros((x.shape[0],1))\n",
    "    weights = weights.reshape(1,n+1)\n",
    "    for i in range(0,X.shape[0]):\n",
    "        pred[i] = float(np.matmul(theta, X[i]))\n",
    "    pred = pred.reshape(X.shape[0])\n",
    "    return pred"
   ]
  },
  {
   "cell_type": "code",
   "execution_count": 18,
   "metadata": {},
   "outputs": [],
   "source": [
    "def GD(m,pred,y,x,weights, alpha, epochs,early_stopping,numberofwieghts):\n",
    "    for i in range(0,num_iters):\n",
    "        theta[0] = theta[0] - (alpha/X.shape[0]) * sum(h - y)\n",
    "        for j in range(1,n+1):\n",
    "            \n",
    "            theta[j] = theta[j] - (alpha/X.shape[0]) * sum((h-y) * X.transpose()[j])\n",
    "        h = ypred(theta, X, n)\n",
    "        cost[i] = (1/X.shape[0]) * 0.5 * sum(np.square(h - y))\n",
    "    theta = theta.reshape(1,n+1)\n",
    "    "
   ]
  }
 ],
 "metadata": {
  "kernelspec": {
   "display_name": "Python 3",
   "language": "python",
   "name": "python3"
  },
  "language_info": {
   "codemirror_mode": {
    "name": "ipython",
    "version": 3
   },
   "file_extension": ".py",
   "mimetype": "text/x-python",
   "name": "python",
   "nbconvert_exporter": "python",
   "pygments_lexer": "ipython3",
   "version": "3.6.12"
  }
 },
 "nbformat": 4,
 "nbformat_minor": 2
}
