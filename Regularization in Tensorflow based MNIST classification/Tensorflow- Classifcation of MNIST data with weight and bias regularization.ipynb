{
 "cells": [
  {
   "cell_type": "code",
   "execution_count": 1,
   "metadata": {},
   "outputs": [],
   "source": [
    "import tensorflow as tf \n",
    "import numpy as np \n",
    "import matplotlib.pyplot as plt \n",
    "\n"
   ]
  },
  {
   "cell_type": "code",
   "execution_count": 2,
   "metadata": {},
   "outputs": [
    {
     "name": "stdout",
     "output_type": "stream",
     "text": [
      "WARNING:tensorflow:From <ipython-input-2-3303644ed702>:3: read_data_sets (from tensorflow.contrib.learn.python.learn.datasets.mnist) is deprecated and will be removed in a future version.\n",
      "Instructions for updating:\n",
      "Please use alternatives such as official/mnist/dataset.py from tensorflow/models.\n",
      "WARNING:tensorflow:From /home/sami/anaconda3/envs/tf_gpu/lib/python3.6/site-packages/tensorflow_core/contrib/learn/python/learn/datasets/mnist.py:260: maybe_download (from tensorflow.contrib.learn.python.learn.datasets.base) is deprecated and will be removed in a future version.\n",
      "Instructions for updating:\n",
      "Please write your own downloading logic.\n",
      "WARNING:tensorflow:From /home/sami/anaconda3/envs/tf_gpu/lib/python3.6/site-packages/tensorflow_core/contrib/learn/python/learn/datasets/mnist.py:262: extract_images (from tensorflow.contrib.learn.python.learn.datasets.mnist) is deprecated and will be removed in a future version.\n",
      "Instructions for updating:\n",
      "Please use tf.data to implement this functionality.\n",
      "Extracting MNIST_data/train-images-idx3-ubyte.gz\n",
      "WARNING:tensorflow:From /home/sami/anaconda3/envs/tf_gpu/lib/python3.6/site-packages/tensorflow_core/contrib/learn/python/learn/datasets/mnist.py:267: extract_labels (from tensorflow.contrib.learn.python.learn.datasets.mnist) is deprecated and will be removed in a future version.\n",
      "Instructions for updating:\n",
      "Please use tf.data to implement this functionality.\n",
      "Extracting MNIST_data/train-labels-idx1-ubyte.gz\n",
      "WARNING:tensorflow:From /home/sami/anaconda3/envs/tf_gpu/lib/python3.6/site-packages/tensorflow_core/contrib/learn/python/learn/datasets/mnist.py:110: dense_to_one_hot (from tensorflow.contrib.learn.python.learn.datasets.mnist) is deprecated and will be removed in a future version.\n",
      "Instructions for updating:\n",
      "Please use tf.one_hot on tensors.\n",
      "Extracting MNIST_data/t10k-images-idx3-ubyte.gz\n",
      "Extracting MNIST_data/t10k-labels-idx1-ubyte.gz\n",
      "WARNING:tensorflow:From /home/sami/anaconda3/envs/tf_gpu/lib/python3.6/site-packages/tensorflow_core/contrib/learn/python/learn/datasets/mnist.py:290: DataSet.__init__ (from tensorflow.contrib.learn.python.learn.datasets.mnist) is deprecated and will be removed in a future version.\n",
      "Instructions for updating:\n",
      "Please use alternatives such as official/mnist/dataset.py from tensorflow/models.\n"
     ]
    }
   ],
   "source": [
    "from tensorflow.examples.tutorials.mnist import input_data # import data from tensorflow library \n",
    "\n",
    "mnist = input_data.read_data_sets(\"MNIST_data/\", one_hot=True) # downloading data and generating onehot \n",
    "                                                               #encoded labels"
   ]
  },
  {
   "cell_type": "code",
   "execution_count": 3,
   "metadata": {},
   "outputs": [
    {
     "name": "stdout",
     "output_type": "stream",
     "text": [
      "WARNING:tensorflow:From <ipython-input-3-6b6620641bf7>:47: softmax_cross_entropy_with_logits (from tensorflow.python.ops.nn_ops) is deprecated and will be removed in a future version.\n",
      "Instructions for updating:\n",
      "\n",
      "Future major versions of TensorFlow will allow gradients to flow\n",
      "into the labels input on backprop by default.\n",
      "\n",
      "See `tf.nn.softmax_cross_entropy_with_logits_v2`.\n",
      "\n"
     ]
    }
   ],
   "source": [
    "# number of features \n",
    "input_features = 784\n",
    "# number of target labels \n",
    "classes = 10\n",
    "# learning rate  \n",
    "learning_rate = 0.01\n",
    "# batch size \n",
    "batch_size = 200\n",
    "# number of epochs \n",
    "epochs = 6000\n",
    "C= 0.1 # C can be tuned in betweeen [0.01 100]\n",
    "lmbda = C/batch_size  # λ =C/n where n is the number of samples\n",
    "# input data \n",
    "Xtrain = mnist.train.images # training data features (Images)\n",
    "Ytrain = mnist.train.labels # Label class for training image\n",
    "Xtest = mnist.test.images   # Testing data\n",
    "Ytest = mnist.test.labels   # Testing Class label\n",
    "Xval = mnist.validation.images # Validation data\n",
    "Yval = mnist.validation.labels # Validation class label\n",
    "\n",
    "\n",
    "graph = tf.Graph()  # initialization for tensorflow graph  \n",
    "\n",
    "with graph.as_default(): #Defining the Graph\n",
    "  \n",
    "\n",
    "    # Input Nodes\n",
    "    tf_Xtrain = tf.placeholder(tf.float32, shape=(None, input_features)) # Iterateable graph input for features\n",
    "    tf_Ytrain = tf.placeholder(tf.float32, shape=(None, classes)) # Iterateable graph input for Label\n",
    "    tf_Xval = tf.constant(Xval) # graph input for  Vlaidation features\n",
    "    tf_Xtest = tf.constant(Xtest) # graph input for  Vlaidation labels\n",
    "\n",
    "    # Variables. \n",
    "    # parameters to be trained\n",
    "    weights = tf.Variable(0.1 * np.random.randn(784, 10).astype(np.float32)) # Random intialization of weights\n",
    "                                                                             # with shape\n",
    "    biases = tf.Variable(0.1 * np.random.randn(10).astype(np.float32))# Random intialization of Bias with shape\n",
    "    \n",
    "    # Defining Model\n",
    "    def layer(data):\n",
    "        return tf.matmul(data, weights) + biases # Implementing Y= WX+b\n",
    "    \n",
    "    # Training computation. \n",
    "    pred = layer(tf_Xtrain) # Linking the input to Model and predict the output\n",
    "    \n",
    "    #cost function to reduce the difference between prediction and ground truth\n",
    "    loss = tf.reduce_mean(tf.nn.softmax_cross_entropy_with_logits(labels=tf_Ytrain, logits=pred)) \n",
    "    regularized_loss = tf.nn.l2_loss(weights)+tf.nn.l2_loss(biases) #Applying regularization on Weights\n",
    "                                                                        # and Bias \n",
    "    total_loss = loss+lmbda*regularized_loss # Calculating Total Loss \n",
    "    # Optimizer. \n",
    "    optimizer = tf.train.GradientDescentOptimizer(learning_rate).minimize(total_loss) \n",
    "\n",
    "    # Predictions for the training, validation, and test data. \n",
    "    train_prediction = tf.nn.softmax(pred) #Applying softmax to prediction\n",
    "    valid_prediction = tf.nn.softmax(tf.matmul(tf_Xval, weights) + biases)#Applying softmax to \n",
    "                                                                          #val_prediction \n",
    "    test_prediction = tf.nn.softmax(tf.matmul(tf_Xtest, weights) + biases)#Applying softmax to \n",
    "                                                                          #test_prediction\n"
   ]
  },
  {
   "cell_type": "code",
   "execution_count": 5,
   "metadata": {},
   "outputs": [],
   "source": [
    "#Function to calculate accuracy \n",
    "def accuracy(predictions, labels):\n",
    "    #It calculates position of max in each row and see if it is the same as ground truth\n",
    "    # If it is same, the one value is added and if not zero is added, based on number of sample used\n",
    "    # percentage accuracy is calculted \n",
    "    return ((100*np.sum(np.argmax(predictions, 1) == np.argmax(labels, 1)))/predictions.shape[0])\n",
    "\n"
   ]
  },
  {
   "cell_type": "code",
   "execution_count": 6,
   "metadata": {},
   "outputs": [
    {
     "name": "stdout",
     "output_type": "stream",
     "text": [
      "Initialized\n",
      "Minibatch loss at step 0: 2.8098013401031494\n",
      "Minibatch accuracy: 8.0%\n",
      "Validation accuracy: 9.3%\n",
      "Minibatch loss at step 500: 0.8672395348548889\n",
      "Minibatch accuracy: 78.0%\n",
      "Validation accuracy: 80.7%\n",
      "Minibatch loss at step 1000: 0.6320449113845825\n",
      "Minibatch accuracy: 84.0%\n",
      "Validation accuracy: 85.3%\n",
      "Minibatch loss at step 1500: 0.5700920224189758\n",
      "Minibatch accuracy: 85.0%\n",
      "Validation accuracy: 86.7%\n",
      "Minibatch loss at step 2000: 0.51485675573349\n",
      "Minibatch accuracy: 87.0%\n",
      "Validation accuracy: 87.5%\n",
      "Minibatch loss at step 2500: 0.47395744919776917\n",
      "Minibatch accuracy: 87.5%\n",
      "Validation accuracy: 88.1%\n",
      "Minibatch loss at step 3000: 0.4110134243965149\n",
      "Minibatch accuracy: 90.5%\n",
      "Validation accuracy: 88.5%\n",
      "Minibatch loss at step 3500: 0.4223308563232422\n",
      "Minibatch accuracy: 89.5%\n",
      "Validation accuracy: 89.1%\n",
      "Minibatch loss at step 4000: 0.38166072964668274\n",
      "Minibatch accuracy: 88.0%\n",
      "Validation accuracy: 89.5%\n",
      "Minibatch loss at step 4500: 0.40382125973701477\n",
      "Minibatch accuracy: 89.5%\n",
      "Validation accuracy: 89.7%\n",
      "Minibatch loss at step 5000: 0.41680440306663513\n",
      "Minibatch accuracy: 87.5%\n",
      "Validation accuracy: 89.9%\n",
      "Minibatch loss at step 5500: 0.3975706398487091\n",
      "Minibatch accuracy: 89.0%\n",
      "Validation accuracy: 90.2%\n",
      "Test accuracy: 90.1%\n"
     ]
    },
    {
     "data": {
      "image/png": "[encoded data removed]",
      "text/plain": [
       "<Figure size 576x288 with 10 Axes>"
      ]
     },
     "metadata": {
      "needs_background": "light"
     },
     "output_type": "display_data"
    }
   ],
   "source": [
    "cost=[] # list variable for further use loss\n",
    "acc=[]  # list variable for further use accuracy\n",
    "with tf.Session(graph=graph) as sess: # Starting the process\n",
    "    \n",
    "    sess.run(tf.global_variables_initializer()) # # initialize weights, biases and inputs (all variables) \n",
    "    print(\"Initialized\") \n",
    "\n",
    "    for step in range(epochs): # No of steps to be taken\n",
    "        # pick a minibatch\n",
    "        batch_data, batch_labels = mnist.train.next_batch(batch_size)\n",
    "        \n",
    "\n",
    "        # Prepare the feed dict \n",
    "        feed_dict = {tf_Xtrain : batch_data, tf_Ytrain : batch_labels} # Linking the input to data\n",
    "\n",
    "        # run one step of computation \n",
    "        _, l, predictions = sess.run([optimizer, loss, train_prediction], #Run optimizer, Loss, \n",
    "                                        feed_dict=feed_dict)            # and train_prediction by feedin the \n",
    "                                                                        # Dictionary\n",
    "        acc.append(accuracy(predictions, batch_labels)) #Saving accuracy Results for future use\n",
    "        cost.append(l) #Saving Loss Results for future use\n",
    "        if (step % 500 == 0): #Printing Accuracy after each 500 epochs\n",
    "            print(\"Minibatch loss at step {0}: {1}\".format(step, l)) \n",
    "            print(\"Minibatch accuracy: {:.1f}%\".format( \n",
    "                accuracy(predictions, batch_labels))) \n",
    "            print(\"Validation accuracy: {:.1f}%\".format( \n",
    "                accuracy(valid_prediction.eval(), Yval))) \n",
    "\n",
    "\n",
    "    predictionstest = sess.run(train_prediction,feed_dict={tf_Xtrain :mnist.test.images}) #prediction on test data\n",
    "    print(\"Test accuracy: {:.1f}%\".format(accuracy(predictionstest, mnist.test.labels)))  #Accuracy on test data\n",
    "    fig, axes = plt.subplots(1, 10, figsize=(8, 4)) #Plotting some of the results\n",
    "    for img, ax in zip(Xtest[30:40], axes):\n",
    "        guess = np.argmax(sess.run(train_prediction, feed_dict={tf_Xtrain :img.reshape(1,784)}))\n",
    "        ax.set_title(guess)\n",
    "        ax.imshow(img.reshape((28, 28)))\n",
    "        ax.axis('off')"
   ]
  },
  {
   "cell_type": "code",
   "execution_count": 7,
   "metadata": {},
   "outputs": [
    {
     "data": {
      "text/plain": [
       "[Text(0.5, 15.0, 'epoch'), Text(209.74318181818177, 0.5, 'Loss')]"
      ]
     },
     "execution_count": 7,
     "metadata": {},
     "output_type": "execute_result"
    },
    {
     "data": {
      "image/png": "[encoded data removed]",
      "text/plain": [
       "<Figure size 864x360 with 2 Axes>"
      ]
     },
     "metadata": {
      "needs_background": "light"
     },
     "output_type": "display_data"
    }
   ],
   "source": [
    "fig, (ax1, ax2) = plt.subplots(1, 2) # Plotting Loss and Accuracy\n",
    "\n",
    "fig.tight_layout(pad=3.0)\n",
    "fig.set_size_inches(12, 5)\n",
    "ax1.plot(acc)\n",
    "ax1.set(xlabel='epoch', ylabel='Accuracy')\n",
    "ax2.plot(cost)\n",
    "ax2.set(xlabel='epoch', ylabel='Loss')"
   ]
  },
  {
   "cell_type": "code",
   "execution_count": null,
   "metadata": {},
   "outputs": [],
   "source": []
  },
  {
   "cell_type": "code",
   "execution_count": null,
   "metadata": {},
   "outputs": [],
   "source": []
  }
 ],
 "metadata": {
  "kernelspec": {
   "display_name": "Python 3",
   "language": "python",
   "name": "python3"
  },
  "language_info": {
   "codemirror_mode": {
    "name": "ipython",
    "version": 3
   },
   "file_extension": ".py",
   "mimetype": "text/x-python",
   "name": "python",
   "nbconvert_exporter": "python",
   "pygments_lexer": "ipython3",
   "version": "3.6.12"
  }
 },
 "nbformat": 4,
 "nbformat_minor": 4
}
