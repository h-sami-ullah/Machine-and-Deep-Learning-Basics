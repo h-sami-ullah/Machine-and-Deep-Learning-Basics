{
 "cells": [
  {
   "cell_type": "code",
   "execution_count": 1,
   "metadata": {},
   "outputs": [],
   "source": [
    "import numpy as np\n",
    "from matplotlib import pyplot as plt\n",
    "n=np.random.normal(loc=0.0, scale=1.0, size=(1000,10)) \n",
    "r=np.sqrt(np.sum(np.square(n),axis=1))\n",
    "x=np.zeros((1000,10))\n",
    "for i in range(0,1000):\n",
    "    x[i]=n[i]/r[i]      \n"
   ]
  },
  {
   "cell_type": "code",
   "execution_count": 3,
   "metadata": {},
   "outputs": [],
   "source": [
    "weight=np.zeros((10,))\n",
    "weight[0]=1"
   ]
  },
  {
   "cell_type": "code",
   "execution_count": 4,
   "metadata": {},
   "outputs": [],
   "source": [
    "pred = np.zeros((x.shape[0],1))\n",
    "for s in range(0,x.shape[0]): # from all samples pick s sample and multiply with weights to get a prediction\n",
    "    pred[s] = float(np.matmul(weight, x[s]))\n",
    "    if abs(pred[s])<0.1:\n",
    "        x[s]=0\n",
    "        "
   ]
  },
  {
   "cell_type": "code",
   "execution_count": 5,
   "metadata": {},
   "outputs": [],
   "source": [
    "xtrain=[]\n",
    "for i in range(0,x.shape[0]):\n",
    "    if(np.any(x[i]!=0)):\n",
    "        xtrain.append(x[i])\n",
    "xtrain=np.asarray(xtrain)"
   ]
  },
  {
   "cell_type": "code",
   "execution_count": 6,
   "metadata": {},
   "outputs": [
    {
     "data": {
      "text/plain": [
       "(761, 10)"
      ]
     },
     "execution_count": 6,
     "metadata": {},
     "output_type": "execute_result"
    }
   ],
   "source": [
    "xtrain.shape"
   ]
  },
  {
   "cell_type": "code",
   "execution_count": 7,
   "metadata": {},
   "outputs": [],
   "source": [
    "y=np.zeros((xtrain.shape[0],1))\n",
    "for i in range(xtrain.shape[0]):\n",
    "    y[i]=np.sign(np.matmul(weight,xtrain[i]))\n"
   ]
  },
  {
   "cell_type": "code",
   "execution_count": 9,
   "metadata": {},
   "outputs": [],
   "source": [
    "def fit(x,y,iterations,learning_rate):\n",
    "    w=np.zeros(1+x.shape[1])\n",
    "    errors_ = []\n",
    "    for i in range(iterations):\n",
    "        errors = 0\n",
    "        for xi, target in zip(x,y):\n",
    "            update=learning_rate*(target-predict(xi,w))\n",
    "            w[1:] = update*xi+w[1:]\n",
    "            w[0] = update+w[0]\n",
    "            errors = int(update!=0.0)+errors\n",
    "        errors_.append(errors) \n",
    "    return errors_,w\n",
    "\n",
    "    "
   ]
  },
  {
   "cell_type": "code",
   "execution_count": 10,
   "metadata": {},
   "outputs": [],
   "source": [
    "def net_input(x,w):\n",
    "    return np.dot(x,w[1:]) + w[0]"
   ]
  },
  {
   "cell_type": "code",
   "execution_count": 11,
   "metadata": {},
   "outputs": [],
   "source": [
    "def predict(x,w):\n",
    "    return np.where(net_input(x,w)>=0.0, 1,-1)"
   ]
  },
  {
   "cell_type": "code",
   "execution_count": 12,
   "metadata": {},
   "outputs": [],
   "source": [
    "iterations =1000\n",
    "learing_rate=0.1\n",
    "error,w=fit(xtrain,y,iterations,learing_rate)"
   ]
  },
  {
   "cell_type": "code",
   "execution_count": 13,
   "metadata": {},
   "outputs": [
    {
     "name": "stdout",
     "output_type": "stream",
     "text": [
      "Using  Prceptron weights are \n",
      " [ 1.41906244 -0.05426732  0.11189606 -0.0125743  -0.03531087 -0.01443304\n",
      "  0.04420995  0.10091418 -0.03474147 -0.01352416]\n"
     ]
    }
   ],
   "source": [
    "print(\"Using  Prceptron weights are \\n\",w[1:])"
   ]
  },
  {
   "cell_type": "code",
   "execution_count": null,
   "metadata": {},
   "outputs": [],
   "source": []
  }
 ],
 "metadata": {
  "kernelspec": {
   "display_name": "Python 3",
   "language": "python",
   "name": "python3"
  },
  "language_info": {
   "codemirror_mode": {
    "name": "ipython",
    "version": 3
   },
   "file_extension": ".py",
   "mimetype": "text/x-python",
   "name": "python",
   "nbconvert_exporter": "python",
   "pygments_lexer": "ipython3",
   "version": "3.6.12"
  }
 },
 "nbformat": 4,
 "nbformat_minor": 2
}
